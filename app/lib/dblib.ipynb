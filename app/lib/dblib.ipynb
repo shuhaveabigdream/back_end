{
 "cells": [
  {
   "cell_type": "code",
   "execution_count": 3,
   "metadata": {},
   "outputs": [
    {
     "name": "stdout",
     "output_type": "stream",
     "text": [
      "0.9.3\n"
     ]
    }
   ],
   "source": [
    "import pymysql\n",
    "print(pymysql.__version__)"
   ]
  },
  {
   "cell_type": "code",
   "execution_count": 4,
   "metadata": {},
   "outputs": [],
   "source": [
    "connection = pymysql.connect(host='localhost',\n",
    "                             user='root',\n",
    "                             password='Shu@123456',\n",
    "                             db='diskdb')"
   ]
  },
  {
   "cell_type": "code",
   "execution_count": 39,
   "metadata": {},
   "outputs": [],
   "source": [
    "from functools import wraps\n",
    "import time\n",
    "def logging(func):\n",
    "    @wraps(func)\n",
    "    def wrapped_function(*args,**kwargs):\n",
    "        print('args',args)\n",
    "        print('kwargs',kwargs)\n",
    "        cur_time=time.strftime('%Y-%m-%d %H:%M:%S',time.localtime(time.time()))\n",
    "        record='sql:%s \\nstatus %s \\ntime:%s\\r\\n'\n",
    "        sql_sen=kwargs['sql']\n",
    "        status=func(*args,**kwargs)\n",
    "        encode_status='success' if status!=False else 'fail'\n",
    "        print(record%(sql_sen,status,cur_time))\n",
    "        with open('./log','a+') as f:\n",
    "            f.write(record%(sql_sen,encode_status,cur_time))\n",
    "        f.close()\n",
    "        return status\n",
    "    return wrapped_function"
   ]
  },
  {
   "cell_type": "code",
   "execution_count": 36,
   "metadata": {},
   "outputs": [],
   "source": [
    "import os\n",
    "import time\n",
    "import pymysql\n",
    "class mysql_operation:\n",
    "    def __init__(self,user='root',password='Shu@123456',db='diskdb',log_dir='./log'):\n",
    "        self.conn=pymysql.connect(host='localhost',\n",
    "                                  user=user,\n",
    "                                  password=password,\n",
    "                                  db=db)\n",
    "        self.log_dir=log_dir\n",
    "    @logging\n",
    "    def exceute_sql(self,sql):\n",
    "        try:\n",
    "            self.conn.cursor().execute(sql)\n",
    "            self.conn.commit()\n",
    "            return True\n",
    "        except Exception as e:\n",
    "            return False\n",
    "            print(e,sql)\n",
    "    @logging\n",
    "    def select(self,sql):\n",
    "        try:\n",
    "            self.conn.cursor().execute(sql)\n",
    "            content=self.conn.fetchone()\n",
    "            return content\n",
    "        except Exception as e:\n",
    "            self.log.write(record%(sql,'fail',cur_time))\n",
    "            print(e,sql)\n",
    "            return False"
   ]
  },
  {
   "cell_type": "code",
   "execution_count": 12,
   "metadata": {},
   "outputs": [],
   "source": [
    "obj=mysql_operation()"
   ]
  },
  {
   "cell_type": "code",
   "execution_count": 18,
   "metadata": {},
   "outputs": [],
   "source": [
    "sql_create_usr=\"create table user_list(\\\n",
    "    usr_id int unsigned auto_increment,\\\n",
    "    usrName varchar(20) not null,\\\n",
    "    path varchar(50) not null,\\\n",
    "    last_login varchar(60),\\\n",
    "    primary key(usr_id))ENGINE=InnoDB DEFAULT CHARSET=utf8;\"\n",
    "sql_create_token=\"create table token_list(\\\n",
    "    token_id int unsigned auto_increment,\\\n",
    "    token varchar(100) not null,\\\n",
    "    usr_name varchar(20) not null,\\\n",
    "    create_time varchar(20) not null,\\\n",
    "    primary key(token_id))ENGINE=InnoDB DEFAULT CHARSET=utf8;\" \n",
    "sql_create_file=\"create table file_list(\\\n",
    "    file_id int unsigned auto_increment,\\\n",
    "    file_name varchar(40) NOT NULL,\\\n",
    "    file_size varchar(20) NOT NULL,\\\n",
    "    belong varchar(40),\\\n",
    "    last_update varchar(40) NOT NULL,\\\n",
    "    file_path varchar(100) NOT NULL,\\\n",
    "    PRIMARY KEY(file_id))ENGINE=InnoDB DEFAULT CHARSET=utf8;\""
   ]
  },
  {
   "cell_type": "code",
   "execution_count": 10,
   "metadata": {},
   "outputs": [
    {
     "name": "stderr",
     "output_type": "stream",
     "text": [
      "c:\\users\\root\\appdata\\python\\python37\\lib\\site-packages\\pymysql\\cursors.py:170: Warning: (3719, \"'utf8' is currently an alias for the character set UTF8MB3, but will be an alias for UTF8MB4 in a future release. Please consider using UTF8MB4 in order to be unambiguous.\")\n",
      "  result = self._query(query)\n"
     ]
    }
   ],
   "source": [
    "obj.exceute_sql(sql)"
   ]
  },
  {
   "cell_type": "code",
   "execution_count": 23,
   "metadata": {},
   "outputs": [],
   "source": [
    "obj.log.close()"
   ]
  },
  {
   "cell_type": "code",
   "execution_count": 38,
   "metadata": {},
   "outputs": [
    {
     "name": "stdout",
     "output_type": "stream",
     "text": [
      "args ()\n",
      "kwargs {'sql': 'select'}\n",
      "sql:select \n",
      "status True \n",
      "time:2020-07-10 22:40:23\r\n",
      "\n"
     ]
    },
    {
     "data": {
      "text/plain": [
       "True"
      ]
     },
     "execution_count": 38,
     "metadata": {},
     "output_type": "execute_result"
    }
   ],
   "source": [
    "@logging\n",
    "def test(sql):\n",
    "    return True\n",
    "\n",
    "test(sql='select')"
   ]
  },
  {
   "cell_type": "code",
   "execution_count": 29,
   "metadata": {},
   "outputs": [
    {
     "data": {
      "text/plain": [
       "'create table user(    usr_id int unsigned auto_increment,    usrName varchar(20) not null,    path varchar(50) not null,    last_login varchar(60),    primary key(usr_id))ENGINE=InnoDB DEFAULT CHARSET=utf8;'"
      ]
     },
     "execution_count": 29,
     "metadata": {},
     "output_type": "execute_result"
    }
   ],
   "source": [
    "sql"
   ]
  },
  {
   "cell_type": "code",
   "execution_count": 1,
   "metadata": {},
   "outputs": [
    {
     "ename": "NameError",
     "evalue": "name 'a' is not defined",
     "output_type": "error",
     "traceback": [
      "\u001b[1;31m---------------------------------------------------------------------------\u001b[0m",
      "\u001b[1;31mNameError\u001b[0m                                 Traceback (most recent call last)",
      "\u001b[1;32m<ipython-input-1-e1ea98856c44>\u001b[0m in \u001b[0;36m<module>\u001b[1;34m\u001b[0m\n\u001b[1;32m----> 1\u001b[1;33m \u001b[0meval\u001b[0m\u001b[1;33m(\u001b[0m\u001b[0ma\u001b[0m\u001b[1;33m)\u001b[0m\u001b[1;33m\u001b[0m\u001b[1;33m\u001b[0m\u001b[0m\n\u001b[0m",
      "\u001b[1;31mNameError\u001b[0m: name 'a' is not defined"
     ]
    }
   ],
   "source": [
    "eval(a)"
   ]
  },
  {
   "cell_type": "code",
   "execution_count": 2,
   "metadata": {},
   "outputs": [
    {
     "ename": "TypeError",
     "evalue": "eval() arg 1 must be a string, bytes or code object",
     "output_type": "error",
     "traceback": [
      "\u001b[1;31m---------------------------------------------------------------------------\u001b[0m",
      "\u001b[1;31mTypeError\u001b[0m                                 Traceback (most recent call last)",
      "\u001b[1;32m<ipython-input-2-14dfddbf4a6a>\u001b[0m in \u001b[0;36m<module>\u001b[1;34m\u001b[0m\n\u001b[0;32m      1\u001b[0m \u001b[0ma\u001b[0m\u001b[1;33m=\u001b[0m\u001b[1;36m10\u001b[0m\u001b[1;33m\u001b[0m\u001b[1;33m\u001b[0m\u001b[0m\n\u001b[1;32m----> 2\u001b[1;33m \u001b[0meval\u001b[0m\u001b[1;33m(\u001b[0m\u001b[0ma\u001b[0m\u001b[1;33m)\u001b[0m\u001b[1;33m\u001b[0m\u001b[1;33m\u001b[0m\u001b[0m\n\u001b[0m",
      "\u001b[1;31mTypeError\u001b[0m: eval() arg 1 must be a string, bytes or code object"
     ]
    }
   ],
   "source": [
    "a=10\n",
    "eval(a)"
   ]
  },
  {
   "cell_type": "code",
   "execution_count": 3,
   "metadata": {},
   "outputs": [
    {
     "name": "stdout",
     "output_type": "stream",
     "text": [
      "Help on built-in function eval in module builtins:\n",
      "\n",
      "eval(source, globals=None, locals=None, /)\n",
      "    Evaluate the given source in the context of globals and locals.\n",
      "    \n",
      "    The source may be a string representing a Python expression\n",
      "    or a code object as returned by compile().\n",
      "    The globals must be a dictionary and locals can be any mapping,\n",
      "    defaulting to the current globals and locals.\n",
      "    If only globals is given, locals defaults to it.\n",
      "\n"
     ]
    }
   ],
   "source": [
    "help(eval)"
   ]
  },
  {
   "cell_type": "code",
   "execution_count": 4,
   "metadata": {},
   "outputs": [
    {
     "data": {
      "text/plain": [
       "dict_items([('a', 1), ('b', 2)])"
      ]
     },
     "execution_count": 4,
     "metadata": {},
     "output_type": "execute_result"
    }
   ],
   "source": [
    "t={'a':1,\n",
    "    'b':2}\n",
    "t.items()"
   ]
  },
  {
   "cell_type": "code",
   "execution_count": 6,
   "metadata": {},
   "outputs": [
    {
     "data": {
      "text/plain": [
       "[('a', 1), ('b', 2)]"
      ]
     },
     "execution_count": 6,
     "metadata": {},
     "output_type": "execute_result"
    }
   ],
   "source": [
    "list(t.items())"
   ]
  },
  {
   "cell_type": "code",
   "execution_count": null,
   "metadata": {},
   "outputs": [],
   "source": []
  }
 ],
 "metadata": {
  "kernelspec": {
   "display_name": "Python 3",
   "language": "python",
   "name": "python3"
  },
  "language_info": {
   "codemirror_mode": {
    "name": "ipython",
    "version": 3
   },
   "file_extension": ".py",
   "mimetype": "text/x-python",
   "name": "python",
   "nbconvert_exporter": "python",
   "pygments_lexer": "ipython3",
   "version": "3.7.1"
  }
 },
 "nbformat": 4,
 "nbformat_minor": 4
}
