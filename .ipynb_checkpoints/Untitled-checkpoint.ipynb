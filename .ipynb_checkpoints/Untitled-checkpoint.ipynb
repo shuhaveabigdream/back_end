{
 "cells": [
  {
   "cell_type": "code",
   "execution_count": 24,
   "metadata": {},
   "outputs": [],
   "source": [
    "import os\n",
    "import math\n",
    "import requests\n",
    "class package:\n",
    "    def __init__(self):\n",
    "        self.url_create_usr='http://127.0.0.1:8000/Net_disk_api/signup'\n",
    "        self.url_del_usr='http://127.0.0.1:8000/Net_disk_api/delaccount'\n",
    "        self.url_upload='http://127.0.0.1:8000/Net_disk_api/upload'\n",
    "        self.url_download = 'http://127.0.0.1:8000/Net_disk_api/download'\n",
    "        self.url_token='http://127.0.0.1:8000/Net_disk_api/token'\n",
    "        self.url_layer='http://127.0.0.1:8000/Net_disk_api/tree'\n",
    "        self.url_operation='http://127.0.0.1:8000/Net_disk_api/operation'\n",
    "        self.cookies=''\n",
    "    def get_token(self,userName):\n",
    "        web=requests.get(self.url_token,{'usrName':userName})\n",
    "        self.cookies = requests.utils.dict_from_cookiejar(web.cookies)\n",
    "    def preprocess_infor_file(self,path,chunk):\n",
    "        file_size=os.path.getsize(path)\n",
    "        set_chunks=math.ceil(file_size/chunk)\n",
    "        return file_size,set_chunks\n",
    "    def upload_by_batch(self,path,fileName,tar_Path,chunks,chunk_size,file_size):\n",
    "        params={\n",
    "        'fileName':fileName,\n",
    "        'path':tar_Path,\n",
    "        't_batchs':chunks,\n",
    "        'file_size':file_size\n",
    "       }\n",
    "        def file_iterator(file_name, chunk_size=chunk_size):\n",
    "            with open(path,'rb') as f:\n",
    "                while True:\n",
    "                    c = f.read(chunk_size)\n",
    "                    if c:\n",
    "                        yield c\n",
    "                    else:\n",
    "                        break\n",
    "        file={}\n",
    "        for index,item in enumerate(file_iterator(path),0):\n",
    "            file['file']=item\n",
    "            params['cur_batch']=index\n",
    "            web=requests.post(self.url_upload,params,files=file,cookies=cookies)\n",
    "            print(web.json())\n",
    "    def upload_files(self,paths):\n",
    "        for path in paths:\n",
    "            filepath, tmpfile = os.path.split(path)\n",
    "            shortname, extension = os.path.splitext(tmpfile)\n",
    "            file_size,set_chunks=self.preprocess_infor_file(path,1024*1024)\n",
    "            self.upload_by_batch(path,shortname+extension,'/tkkk/'+shortname+extension,set_chunks,1024*1024,file_size)\n",
    "        return True\n",
    "    def download_sigle_file(self,path,save_file):\n",
    "        d=requests.get(self.url_download,{'path':path},cookies=self.cookies)\n",
    "        print(len(d.content))\n",
    "        with open(save_file,'wb') as f:\n",
    "            f.write(d.content)\n",
    "        f.close()\n",
    "\n",
    "    def create_usr(self,usrName):\n",
    "        web=requests.post(url=self.url_create_usr,data={'usrName':usrName})\n",
    "        print(web.json())\n",
    "        self.cookies = requests.utils.dict_from_cookiejar(web.cookies)\n",
    "    def del_usr(self,usrName):\n",
    "        data = {'usrName': usrName}\n",
    "        web = requests.post(self.url_del_usr, data)\n",
    "        print(web.json())\n",
    "    def get_layer(self,path):\n",
    "        web=requests.get(self.url_layer,{'path':path},cookies=self.cookies)\n",
    "        return web.json()\n",
    "    def dir_operation(self,op,path):\n",
    "        assert op in ['add','delete']\n",
    "        web=requests.post(self.url_operation,{'path':path,'operation':op},cookies=self.cookies)\n",
    "        return web.json()"
   ]
  },
  {
   "cell_type": "code",
   "execution_count": 25,
   "metadata": {},
   "outputs": [],
   "source": [
    "obj=package()\n",
    "obj.get_token('test_account')"
   ]
  },
  {
   "cell_type": "code",
   "execution_count": 10,
   "metadata": {},
   "outputs": [
    {
     "name": "stdout",
     "output_type": "stream",
     "text": [
      "1062190\n"
     ]
    }
   ],
   "source": [
    "obj.download_sigle_file(path='tkkk/TransH.pdf',save_file='./tran.pdf')"
   ]
  },
  {
   "cell_type": "code",
   "execution_count": 23,
   "metadata": {},
   "outputs": [
    {
     "data": {
      "text/plain": [
       "{'files_infor': [{'file_name': 'test',\n",
       "   'extend_name': '.docx',\n",
       "   'file_size': 16775,\n",
       "   'last_visit': 1594821356.0306962,\n",
       "   'last_change': 1594821356.0306962},\n",
       "  {'file_name': 'test',\n",
       "   'extend_name': '.pdf',\n",
       "   'file_size': 261453,\n",
       "   'last_visit': 1594821146.68053,\n",
       "   'last_change': 1594821146.68053},\n",
       "  {'file_name': '合同',\n",
       "   'extend_name': '.docx',\n",
       "   'file_size': 16775,\n",
       "   'last_visit': 1594825236.1864283,\n",
       "   'last_change': 1594825236.1864283}],\n",
       " 'subdirecs': ['chache', 'tkkk']}"
      ]
     },
     "execution_count": 23,
     "metadata": {},
     "output_type": "execute_result"
    }
   ],
   "source": [
    "obj.get_layer('')"
   ]
  },
  {
   "cell_type": "code",
   "execution_count": 26,
   "metadata": {},
   "outputs": [
    {
     "ename": "AttributeError",
     "evalue": "'package' object has no attribute 'url_operation'",
     "output_type": "error",
     "traceback": [
      "\u001b[1;31m---------------------------------------------------------------------------\u001b[0m",
      "\u001b[1;31mAttributeError\u001b[0m                            Traceback (most recent call last)",
      "\u001b[1;32m<ipython-input-26-fcee4a113c32>\u001b[0m in \u001b[0;36m<module>\u001b[1;34m\u001b[0m\n\u001b[1;32m----> 1\u001b[1;33m \u001b[0mobj\u001b[0m\u001b[1;33m.\u001b[0m\u001b[0mdir_operation\u001b[0m\u001b[1;33m(\u001b[0m\u001b[0mpath\u001b[0m\u001b[1;33m=\u001b[0m\u001b[1;34m'tkkk/myfile'\u001b[0m\u001b[1;33m,\u001b[0m\u001b[0mop\u001b[0m\u001b[1;33m=\u001b[0m\u001b[1;34m'add'\u001b[0m\u001b[1;33m)\u001b[0m\u001b[1;33m\u001b[0m\u001b[1;33m\u001b[0m\u001b[0m\n\u001b[0m",
      "\u001b[1;32m<ipython-input-24-154c356dd0e4>\u001b[0m in \u001b[0;36mdir_operation\u001b[1;34m(self, op, path)\u001b[0m\n\u001b[0;32m     66\u001b[0m     \u001b[1;32mdef\u001b[0m \u001b[0mdir_operation\u001b[0m\u001b[1;33m(\u001b[0m\u001b[0mself\u001b[0m\u001b[1;33m,\u001b[0m\u001b[0mop\u001b[0m\u001b[1;33m,\u001b[0m\u001b[0mpath\u001b[0m\u001b[1;33m)\u001b[0m\u001b[1;33m:\u001b[0m\u001b[1;33m\u001b[0m\u001b[1;33m\u001b[0m\u001b[0m\n\u001b[0;32m     67\u001b[0m         \u001b[1;32massert\u001b[0m \u001b[0mop\u001b[0m \u001b[1;32min\u001b[0m \u001b[1;33m[\u001b[0m\u001b[1;34m'add'\u001b[0m\u001b[1;33m,\u001b[0m\u001b[1;34m'delete'\u001b[0m\u001b[1;33m]\u001b[0m\u001b[1;33m\u001b[0m\u001b[1;33m\u001b[0m\u001b[0m\n\u001b[1;32m---> 68\u001b[1;33m         \u001b[0mweb\u001b[0m\u001b[1;33m=\u001b[0m\u001b[0mrequests\u001b[0m\u001b[1;33m.\u001b[0m\u001b[0mpost\u001b[0m\u001b[1;33m(\u001b[0m\u001b[0mself\u001b[0m\u001b[1;33m.\u001b[0m\u001b[0murl_operation\u001b[0m\u001b[1;33m,\u001b[0m\u001b[1;33m{\u001b[0m\u001b[1;34m'path'\u001b[0m\u001b[1;33m:\u001b[0m\u001b[0mpath\u001b[0m\u001b[1;33m,\u001b[0m\u001b[1;34m'operation'\u001b[0m\u001b[1;33m:\u001b[0m\u001b[0mop\u001b[0m\u001b[1;33m}\u001b[0m\u001b[1;33m,\u001b[0m\u001b[0mcookies\u001b[0m\u001b[1;33m=\u001b[0m\u001b[0mself\u001b[0m\u001b[1;33m.\u001b[0m\u001b[0mcookies\u001b[0m\u001b[1;33m)\u001b[0m\u001b[1;33m\u001b[0m\u001b[1;33m\u001b[0m\u001b[0m\n\u001b[0m\u001b[0;32m     69\u001b[0m         \u001b[1;32mreturn\u001b[0m \u001b[0mweb\u001b[0m\u001b[1;33m.\u001b[0m\u001b[0mjson\u001b[0m\u001b[1;33m(\u001b[0m\u001b[1;33m)\u001b[0m\u001b[1;33m\u001b[0m\u001b[1;33m\u001b[0m\u001b[0m\n",
      "\u001b[1;31mAttributeError\u001b[0m: 'package' object has no attribute 'url_operation'"
     ]
    }
   ],
   "source": [
    "obj.dir_operation(path='tkkk/myfile',op='add')"
   ]
  },
  {
   "cell_type": "code",
   "execution_count": null,
   "metadata": {},
   "outputs": [],
   "source": []
  }
 ],
 "metadata": {
  "kernelspec": {
   "display_name": "Python 3",
   "language": "python",
   "name": "python3"
  },
  "language_info": {
   "codemirror_mode": {
    "name": "ipython",
    "version": 3
   },
   "file_extension": ".py",
   "mimetype": "text/x-python",
   "name": "python",
   "nbconvert_exporter": "python",
   "pygments_lexer": "ipython3",
   "version": "3.7.1"
  }
 },
 "nbformat": 4,
 "nbformat_minor": 4
}
